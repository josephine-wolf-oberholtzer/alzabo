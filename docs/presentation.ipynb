{
 "cells": [
  {
   "cell_type": "markdown",
   "id": "5d79fafc-d8df-4d35-b1ef-8cf5199d43f8",
   "metadata": {},
   "source": [
    "# Praetor\n",
    "\n",
    "A distributed \\\n",
    "Concatenative synthesis and \\\n",
    "Audio analysis \\\n",
    "Engine"
   ]
  },
  {
   "cell_type": "markdown",
   "id": "9712c946-29e4-42e2-bdb9-1b04128adfe8",
   "metadata": {},
   "source": [
    "## Goals\n",
    "\n",
    "- Separate performance client from corpus server\n",
    "- Centralized sample / analysis corpus\n",
    "- Corpus can be updated in realtime"
   ]
  },
  {
   "cell_type": "markdown",
   "id": "c624d9d7-59ed-4e6f-a9ed-f40b95a5792b",
   "metadata": {
    "jp-MarkdownHeadingCollapsed": true
   },
   "source": [
    "## Buzzwords\n",
    "\n",
    "- Python\n",
    "- SuperCollider\n",
    "- Supriya\n",
    "- FluCoMa\n",
    "- AWS / GCloud / Alibaba\n",
    "- Milvus\n",
    "- S3"
   ]
  },
  {
   "cell_type": "markdown",
   "id": "6b8f09e1-6310-442b-b17d-7eed6c708164",
   "metadata": {},
   "source": [
    "## Granular synthesis"
   ]
  },
  {
   "cell_type": "markdown",
   "id": "13a81b22-3e68-4f32-a816-2f60d7986e06",
   "metadata": {},
   "source": [
    "### Concatenative synthesis"
   ]
  },
  {
   "cell_type": "markdown",
   "id": "4ed8a5d6-cbc4-45c3-8b78-3f1c15b47d54",
   "metadata": {},
   "source": [
    "## Audio analysis"
   ]
  },
  {
   "cell_type": "markdown",
   "id": "657d08d4-f71b-433b-bf03-3ad55faa70ec",
   "metadata": {},
   "source": [
    "### Machine listening"
   ]
  },
  {
   "cell_type": "markdown",
   "id": "92d7850a-2b3b-4bc2-9edb-f5964029134e",
   "metadata": {},
   "source": [
    "### Music information retrieval"
   ]
  },
  {
   "cell_type": "markdown",
   "id": "31815495-7c34-417a-989a-cdfa34165510",
   "metadata": {},
   "source": [
    "### Vector databases"
   ]
  },
  {
   "cell_type": "markdown",
   "id": "5d242f64-3f7b-429c-92e3-617baed51a2f",
   "metadata": {},
   "source": [
    "## Distribute system architecture"
   ]
  },
  {
   "cell_type": "markdown",
   "id": "057ae10c-9108-41ea-9bf6-f2f31105cc3e",
   "metadata": {},
   "source": [
    "### Server-side architecture"
   ]
  },
  {
   "cell_type": "markdown",
   "id": "72345e36-6c0c-4c92-b15d-ab0baadc8803",
   "metadata": {},
   "source": [
    "### Client-side archicture"
   ]
  },
  {
   "cell_type": "markdown",
   "id": "0c8f325f-591a-486e-b029-09fce911c0a0",
   "metadata": {},
   "source": [
    "### Ingest flow"
   ]
  },
  {
   "cell_type": "markdown",
   "id": "69a65b5b-4cf8-462a-b3ed-7eb832202987",
   "metadata": {},
   "source": [
    "### Retrieval flow"
   ]
  },
  {
   "cell_type": "markdown",
   "id": "95dc4f59-44c4-4728-bbe2-e5a17a98e2b4",
   "metadata": {},
   "source": [
    "## Art, I guess"
   ]
  },
  {
   "cell_type": "markdown",
   "id": "d3f564dd-ddf9-4875-ad0d-0ed7653fa7d1",
   "metadata": {},
   "source": [
    "## What's cooking\n",
    "\n",
    "- HID\n",
    "- GUI / TUI\n",
    "- DAW framework\n",
    "- Vector whitening\n",
    "- Cloud testing"
   ]
  },
  {
   "cell_type": "code",
   "execution_count": null,
   "id": "deb5cbab-3df6-4cad-bff0-badf7d9a7225",
   "metadata": {},
   "outputs": [],
   "source": []
  }
 ],
 "metadata": {
  "kernelspec": {
   "display_name": "Python 3 (ipykernel)",
   "language": "python",
   "name": "python3"
  },
  "language_info": {
   "codemirror_mode": {
    "name": "ipython",
    "version": 3
   },
   "file_extension": ".py",
   "mimetype": "text/x-python",
   "name": "python",
   "nbconvert_exporter": "python",
   "pygments_lexer": "ipython3",
   "version": "3.11.9"
  }
 },
 "nbformat": 4,
 "nbformat_minor": 5
}
